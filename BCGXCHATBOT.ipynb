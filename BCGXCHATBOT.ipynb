{
  "nbformat": 4,
  "nbformat_minor": 0,
  "metadata": {
    "colab": {
      "provenance": []
    },
    "kernelspec": {
      "name": "python3",
      "display_name": "Python 3"
    },
    "language_info": {
      "name": "python"
    }
  },
  "cells": [
    {
      "cell_type": "code",
      "execution_count": null,
      "metadata": {
        "id": "fPFbVseORrHW"
      },
      "outputs": [],
      "source": [
        "\n",
        "from flask import Flask, request, jsonify\n",
        "import pandas as pd\n",
        "\n",
        "app = Flask(__name__)\n",
        "\n",
        "def analyze_financial_data():\n",
        "    df = pd.read_csv('path_to_your_csv_file.csv')\n",
        "    df['Revenue Growth (%)'] = df.groupby(['Company'])['Total Revenue'].pct_change() * 100\n",
        "    df['Net Income Growth (%)'] = df.groupby(['Company'])['Net Income'].pct_change() * 100\n",
        "    df['Assets Growth (%)'] = df.groupby(['Company'])['Total Assets'].pct_change() * 100\n",
        "    df['Liabilities Growth (%)'] = df.groupby(['Company'])['Total Liabilities'].pct_change() * 100\n",
        "    df['Cash Flow Growth (%)'] = df.groupby(['Company'])['Cash Flow from Operating Activities'].pct_change() * 100\n",
        "    summary = df.groupby('Company')[['Revenue Growth (%)', 'Net Income Growth (%)',\n",
        "                                     'Assets Growth (%)', 'Liabilities Growth (%)',\n",
        "                                     'Cash Flow Growth (%)']].mean()\n",
        "    df.to_csv('updated_financial_data.csv', index=False)\n",
        "    return df, summary\n",
        "\n",
        "data, summary = analyze_financial_data()\n",
        "\n",
        "@app.route('/chat', methods=['POST'])\n",
        "def chatbot():\n",
        "    user_query = request.json.get('query', '').strip().lower()\n",
        "    if \"total revenue\" in user_query:\n",
        "        response = data.groupby('Company')[\"Total Revenue\"].sum().to_dict()\n",
        "    elif \"net income growth\" in user_query:\n",
        "        response = summary[\"Net Income Growth (%)\"].to_dict()\n",
        "    elif \"assets growth\" in user_query:\n",
        "        response = summary[\"Assets Growth (%)\"].to_dict()\n",
        "    elif \"liabilities growth\" in user_query:\n",
        "        response = summary[\"Liabilities Growth (%)\"].to_dict()\n",
        "    elif \"cash flow growth\" in user_query:\n",
        "        response = summary[\"Cash Flow Growth (%)\"].to_dict()\n",
        "    else:\n",
        "        response = \"Sorry, I can only provide information on predefined queries.\"\n",
        "    return jsonify(response)\n",
        "\n",
        "if __name__ == '__main__':\n",
        "    app.run(debug=True)"
      ]
    }
  ]
}